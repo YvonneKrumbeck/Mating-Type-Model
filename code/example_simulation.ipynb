{
 "cells": [
  {
   "cell_type": "markdown",
   "metadata": {},
   "source": [
    "# Example Simulation"
   ]
  },
  {
   "cell_type": "code",
   "execution_count": 2,
   "metadata": {},
   "outputs": [],
   "source": [
    "import matplotlib.pyplot as plt\n",
    "from MatingTypeModel import Model, get_distr_normal"
   ]
  },
  {
   "cell_type": "markdown",
   "metadata": {},
   "source": [
    "## Setting parameters and initialising simulation\n",
    "The model takes the following optional keyword arguments (default values defined in `MatingTypeModel.py` otherwise)\n",
    "- `m0` : initial number of mating types\n",
    "- `c` : clonal reproduction rate\n",
    "- `distr_r` : relative fitness distribution for mutant mating types\n",
    "- `r0` : initial fitness values of initial mating types"
   ]
  },
  {
   "cell_type": "code",
   "execution_count": 3,
   "metadata": {},
   "outputs": [],
   "source": [
    "n_mut_max = 30  # max number of mutations\n",
    "model1 = Model(distr_r=get_distr_normal(mean=0,variance=0))\n",
    "model2 = Model()"
   ]
  },
  {
   "cell_type": "markdown",
   "metadata": {},
   "source": [
    "## Main loop"
   ]
  },
  {
   "cell_type": "code",
   "execution_count": 4,
   "metadata": {},
   "outputs": [],
   "source": [
    "m1 = []\n",
    "m2 = []\n",
    "\n",
    "for i in range(n_mut_max):\n",
    "    model1.get_fixedPoint_stable()\n",
    "    model2.get_fixedPoint_stable()\n",
    "    \n",
    "    m1.append(model1.data()['m'])\n",
    "    m2.append(model2.data()['m'])\n",
    "    \n",
    "    model1.mutate()\n",
    "    model2.mutate()\n",
    "    \n",
    "#print(model1.data())  # view data stored for this simulation"
   ]
  },
  {
   "cell_type": "markdown",
   "metadata": {},
   "source": [
    "## Plot"
   ]
  },
  {
   "cell_type": "code",
   "execution_count": 8,
   "metadata": {},
   "outputs": [
    {
     "data": {
      "image/png": "[encoded data removed]",
      "text/plain": [
       "<Figure size 432x288 with 1 Axes>"
      ]
     },
     "metadata": {
      "needs_background": "light"
     },
     "output_type": "display_data"
    }
   ],
   "source": [
    "fig, ax = plt.subplots()\n",
    "ax.set_ylabel(r'Number of mating types $M$');\n",
    "ax.set_xlabel(r'$t$ (in mutation time)');\n",
    "\n",
    "ax.plot(m1, label=r'Variance = 0');\n",
    "ax.plot(m2, label=r'Variance = 0.001');\n",
    "\n",
    "ax.legend();\n",
    "\n",
    "plt.show()"
   ]
  },
  {
   "cell_type": "markdown",
   "metadata": {},
   "source": [
    "Timeseries for the number of mating types with\n",
    "- No fitness differences\n",
    "- Small fitness differences (normally distributed)"
   ]
  },
  {
   "cell_type": "markdown",
   "metadata": {},
   "source": [
    "## Other fitness distributions\n",
    "The example above uses a normal distribution for the mutant fitness values. For other distributions define a function that takes an integer `n` as argument and returns `n` values drawn from the distribution. Then feed the function as `distr_r` keyword argument when initialising an instance of `Model`. Use a wrapper function to set distribution parameters (see examples below)."
   ]
  },
  {
   "cell_type": "code",
   "execution_count": 7,
   "metadata": {},
   "outputs": [],
   "source": [
    "# Normal distribution\n",
    "def get_distr_normal(mean, variance):\n",
    "    \n",
    "    def distr_normal(n):\n",
    "        return np.random.normal(mean, scale=np.sqrt(variance), size=n)\n",
    "    \n",
    "    return distr_normal\n",
    "\n",
    "# Delta distribution\n",
    "def get_distr_delta(peak_position):\n",
    "    \n",
    "    def distr_delta(n):\n",
    "        return peak_position *np.ones(n)\n",
    "    \n",
    "    return distr_delta\n",
    "\n",
    "# Uniform distribution\n",
    "def get_distr_uniform(low, variance):\n",
    "    \n",
    "    def distr_uniform(n):\n",
    "        return low +np.sqrt(12*variance) *np.random.random(size=n)\n",
    "    \n",
    "    return distr_uniform\n",
    "\n",
    "# Exponential distribution\n",
    "def get_distr_exp(low, scale):\n",
    "    \n",
    "    def distr_exponential(n):\n",
    "        return low +np.random.exponential(scale, size=n)\n",
    "    \n",
    "    return distr_exp"
   ]
  }
 ],
 "metadata": {
  "kernelspec": {
   "display_name": "Python 3",
   "language": "python",
   "name": "python3"
  },
  "language_info": {
   "codemirror_mode": {
    "name": "ipython",
    "version": 3
   },
   "file_extension": ".py",
   "mimetype": "text/x-python",
   "name": "python",
   "nbconvert_exporter": "python",
   "pygments_lexer": "ipython3",
   "version": "3.7.3"
  }
 },
 "nbformat": 4,
 "nbformat_minor": 4
}
